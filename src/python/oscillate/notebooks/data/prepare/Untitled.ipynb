{
 "cells": [
  {
   "cell_type": "code",
   "execution_count": 1,
   "id": "19578ba2-d1a8-482d-8ab1-fe15f6d0f814",
   "metadata": {},
   "outputs": [],
   "source": [
    "import pandas as pd\n",
    "\n",
    "import os\n",
    "\n",
    "from oscillate.data.prepare.data_preparer import DataPreparer\n",
    "from oscillate.data.prepare.encoders.audio import EncodecEncoder\n",
    "from oscillate.data.prepare.encoders.text.bpemb_encoder import BpembEncoder"
   ]
  },
  {
   "cell_type": "code",
   "execution_count": 2,
   "id": "63bdc643-b5d7-4425-8f06-2d449a1b3a77",
   "metadata": {},
   "outputs": [],
   "source": [
    "ENCODEC_BANDWIDTH = 12\n",
    "ENCODEC_EOS_TOKEN = 0\n",
    "\n",
    "BPEMB_LANG = \"en\"\n",
    "BPEMB_EMB_SIZE = 50\n",
    "\n",
    "TEXT_PADDING_TOKEN = 0\n",
    "TEXT_BLOCK_SIZE = 256\n",
    "\n",
    "AUDIO_PADDING_TOKEN = 0\n",
    "AUDIO_BLOCK_SIZE = 512\n",
    "\n",
    "AUDIO_FILE_FORMAT = \"{}.wav\"\n",
    "AUDIO_DIR = os.path.abspath(\"/home/abreham/Projects/TeamProjects/Oscillate/temp/Data/dummy/audio\")\n",
    "CSV_PATH = os.path.abspath(\"/home/abreham/Projects/TeamProjects/Oscillate/temp/Data/dummy/metadata.csv\")\n",
    "SAVE_PATH = os.path.abspath(\"/home/abreham/Projects/TeamProjects/Oscillate/temp/Data/dummy/prepared\")\n",
    "\n",
    "CSV_HEADER_TEXT = \"text\"\n",
    "CSV_HEADER_AUDIO = \"audio\"\n",
    "\n",
    "TEST_SPLIT_SIZE = 0.3"
   ]
  },
  {
   "cell_type": "code",
   "execution_count": 3,
   "id": "bcd003f1-1b42-4c86-98f6-71d0bb7e0baf",
   "metadata": {},
   "outputs": [],
   "source": [
    "audio_encoder = EncodecEncoder(bandwidth=ENCODEC_BANDWIDTH, eos_token=ENCODEC_EOS_TOKEN)"
   ]
  },
  {
   "cell_type": "code",
   "execution_count": 4,
   "id": "7bddad1e-8e36-404e-9de1-b8f730bf1731",
   "metadata": {},
   "outputs": [],
   "source": [
    "text_encoder = BpembEncoder(lang=BPEMB_LANG, emb_size=BPEMB_EMB_SIZE)"
   ]
  },
  {
   "cell_type": "code",
   "execution_count": 5,
   "id": "4930874e-da2a-4c18-9047-58cbc25ef0b6",
   "metadata": {},
   "outputs": [],
   "source": [
    "preparer = DataPreparer(\n",
    "    audio_encoder,\n",
    "    text_encoder,\n",
    "    audio_block_size=AUDIO_BLOCK_SIZE,\n",
    "    text_block_size=TEXT_BLOCK_SIZE,\n",
    "    audio_dir=AUDIO_DIR,\n",
    "    audio_file_format=AUDIO_FILE_FORMAT\n",
    ")"
   ]
  },
  {
   "cell_type": "code",
   "execution_count": 6,
   "id": "93238e26-1c8e-4b29-88bf-b02f560ae8f7",
   "metadata": {},
   "outputs": [],
   "source": [
    "df = df = pd.read_csv(CSV_PATH, sep=\"|\")"
   ]
  },
  {
   "cell_type": "code",
   "execution_count": 7,
   "id": "53ac0dbb-8545-4ddb-bf9d-c1a169d0aec0",
   "metadata": {},
   "outputs": [
    {
     "name": "stdout",
     "output_type": "stream",
     "text": [
      "[+]Preparing: 20.00% ...\n",
      "[+]Preparing: 40.00% ...\n",
      "[+]Preparing: 60.00% ...\n",
      "[+]Preparing: 80.00% ...\n",
      "[+]Preparing: 100.00% ...\n"
     ]
    }
   ],
   "source": [
    "preparer.start(\n",
    "    df=df,\n",
    "    save_path=SAVE_PATH,\n",
    "    header_text=\"text\",\n",
    "    header_audio=\"audio\"\n",
    ")"
   ]
  }
 ],
 "metadata": {
  "kernelspec": {
   "display_name": "Python 3 (ipykernel)",
   "language": "python",
   "name": "python3"
  },
  "language_info": {
   "codemirror_mode": {
    "name": "ipython",
    "version": 3
   },
   "file_extension": ".py",
   "mimetype": "text/x-python",
   "name": "python",
   "nbconvert_exporter": "python",
   "pygments_lexer": "ipython3",
   "version": "3.8.17"
  }
 },
 "nbformat": 4,
 "nbformat_minor": 5
}
